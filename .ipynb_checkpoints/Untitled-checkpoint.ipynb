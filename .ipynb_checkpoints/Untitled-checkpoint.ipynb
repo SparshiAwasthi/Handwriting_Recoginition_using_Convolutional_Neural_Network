{
 "cells": [
  {
   "cell_type": "markdown",
   "id": "dbad1d8d",
   "metadata": {},
   "source": [
    "# Handwriting Recognition using Convolutional Neural Network (CNN)"
   ]
  },
  {
   "cell_type": "markdown",
   "id": "8dd79293",
   "metadata": {},
   "source": [
    "## Data Preparation"
   ]
  },
  {
   "cell_type": "code",
   "execution_count": 11,
   "id": "0db8d91b",
   "metadata": {},
   "outputs": [],
   "source": [
    "# Importing the required libraries\n",
    "\n",
    "import tensorflow\n",
    "from tensorflow.keras.datasets import mnist\n",
    "from tensorflow.keras.models import Sequential\n",
    "from tensorflow.keras.layers import Dense, Dropout, Conv2D, MaxPooling2D, Flatten\n",
    "from tensorflow.keras.optimizers import RMSprop"
   ]
  },
  {
   "cell_type": "code",
   "execution_count": 12,
   "id": "fda57274",
   "metadata": {},
   "outputs": [],
   "source": [
    "# Loading the MNIST dataset\n",
    "\n",
    "(mnist_train_images, mnist_train_labels), (mnist_test_images, mnist_test_labels) = mnist.load_data()"
   ]
  },
  {
   "cell_type": "code",
   "execution_count": null,
   "id": "e9a0c734",
   "metadata": {},
   "outputs": [],
   "source": [
    "# Preprocessing the dataset\n",
    "\n",
    "from tensorflow.keras import backend as k\n",
    "\n",
    "if k.image_data_format() == 'channels_first':\n",
    "    train_images = mnist_train_images.reshape(mnist_train_images.shape[0], 1, 28, 28)\n",
    "    test_images = mnist_test_images.reshape(mnist_test_images.shape[0], 1, 28, 28)\n",
    "    input_shape = (1, 28, 28)\n",
    "else:\n",
    "    train_images = mnist_train_images.reshape(mnist_train_images.shape[0], 28, 28, 1)\n",
    "    test_images = mnist_test_images.reshape(mnist_test_images.shape[0], 28, 28, 1)\n",
    "    input_shape = (28, 28, 1)\n",
    "\n",
    "train_images = train_images.astype('float32')\n",
    "test_images = test_images.astype('float32')\n",
    "train_images /= 255\n",
    "test_images /= 255"
   ]
  },
  {
   "cell_type": "code",
   "execution_count": 14,
   "id": "28dcd817",
   "metadata": {},
   "outputs": [],
   "source": [
    "# Converting labels into cateogrical fornat using one-hot encoding\n",
    "\n",
    "train_labels = tensorflow.keras.utils.to_categorical(mnist_train_labels, 10)\n",
    "test_labels = tensorflow.keras.utils.to_categorical(mnist_test_labels, 10)"
   ]
  },
  {
   "cell_type": "markdown",
   "id": "1e70f362",
   "metadata": {},
   "source": [
    "## Displaying a Sample Image"
   ]
  },
  {
   "cell_type": "code",
   "execution_count": 15,
   "id": "7d3d2fc2",
   "metadata": {},
   "outputs": [
    {
     "name": "stdout",
     "output_type": "stream",
     "text": [
      "[0. 0. 0. 1. 0. 0. 0. 0. 0. 0.]\n"
     ]
    },
    {
     "data": {
      "image/png": "[encoded data removed]",
      "text/plain": [
       "<Figure size 640x480 with 1 Axes>"
      ]
     },
     "metadata": {},
     "output_type": "display_data"
    }
   ],
   "source": [
    "# Defining a function\n",
    "\n",
    "import matplotlib.pyplot as plt\n",
    "\n",
    "def display_sample(num):\n",
    "    # print the one-hot array of this sample's label\n",
    "    print(train_labels[num])\n",
    "    # print the label converted back to a number\n",
    "    label = train_labels[num].argmax(axis = 0)\n",
    "    # reshape the 768 values to a 28x28 image\n",
    "    image = train_images[num].reshape([28, 28])\n",
    "    plt.title('Sample: %d Label: %d' % (num, label))\n",
    "    plt.imshow(image, cmap = plt.get_cmap('gray_r'))\n",
    "    plt.show()\n",
    "    \n",
    "display_sample(1234)"
   ]
  },
  {
   "cell_type": "markdown",
   "id": "a7b11488",
   "metadata": {},
   "source": [
    "## Model Architecture"
   ]
  },
  {
   "cell_type": "code",
   "execution_count": 20,
   "id": "9e5e945c",
   "metadata": {},
   "outputs": [],
   "source": [
    "# Building the CNN model\n",
    "model = Sequential()\n",
    "\n",
    "# Adding the first Convolutional layer\n",
    "model.add(Conv2D(32, kernel_size = (3, 3), activation = 'relu', input_shape = input_shape))\n",
    "\n",
    "# Adding the first Convolutional layer with 64 kernels of size 3x3\n",
    "model.add(Conv2D(64, (3,3), activation = 'relu'))\n",
    "\n",
    "# Adding a MaxPooling layer\n",
    "model.add(MaxPooling2D(pool_size = (2, 2)))\n",
    "\n",
    "# Adding a dropout layer to avoid oerfitting\n",
    "model.add(Dropout(0.25))\n",
    "\n",
    "# Flattening the data to one dimension for passing into our final layer\n",
    "model.add(Flatten())\n",
    "\n",
    "# Adding a Dense(fully connected) layer\n",
    "model.add(Dense(128, activation = 'relu'))\n",
    "\n",
    "# Adding another dropout layer\n",
    "model.add(Dropout(0.5))\n",
    "\n",
    "# Adding the output layer (final categorization from 0-9 with softmax)\n",
    "model.add(Dense(10, activation = 'softmax'))"
   ]
  },
  {
   "cell_type": "code",
   "execution_count": 21,
   "id": "a8040541",
   "metadata": {},
   "outputs": [
    {
     "name": "stdout",
     "output_type": "stream",
     "text": [
      "Model: \"sequential_3\"\n",
      "_________________________________________________________________\n",
      " Layer (type)                Output Shape              Param #   \n",
      "=================================================================\n",
      " conv2d_6 (Conv2D)           (None, 26, 26, 32)        320       \n",
      "                                                                 \n",
      " conv2d_7 (Conv2D)           (None, 24, 24, 64)        18496     \n",
      "                                                                 \n",
      " max_pooling2d_3 (MaxPooling  (None, 12, 12, 64)       0         \n",
      " 2D)                                                             \n",
      "                                                                 \n",
      " dropout_6 (Dropout)         (None, 12, 12, 64)        0         \n",
      "                                                                 \n",
      " flatten_3 (Flatten)         (None, 9216)              0         \n",
      "                                                                 \n",
      " dense_6 (Dense)             (None, 128)               1179776   \n",
      "                                                                 \n",
      " dropout_7 (Dropout)         (None, 128)               0         \n",
      "                                                                 \n",
      " dense_7 (Dense)             (None, 10)                1290      \n",
      "                                                                 \n",
      "=================================================================\n",
      "Total params: 1,199,882\n",
      "Trainable params: 1,199,882\n",
      "Non-trainable params: 0\n",
      "_________________________________________________________________\n"
     ]
    }
   ],
   "source": [
    "# describe the model\n",
    "model.summary()"
   ]
  },
  {
   "cell_type": "markdown",
   "id": "fae36843",
   "metadata": {},
   "source": [
    "## Model Compilation and Training"
   ]
  },
  {
   "cell_type": "code",
   "execution_count": 22,
   "id": "c85b47fe",
   "metadata": {},
   "outputs": [],
   "source": [
    "# Configuring the model with categorical_crossentropy as loss function, with adam optimizer and evaulation metric \n",
    "model.compile(loss = 'categorical_crossentropy', optimizer = 'adam', metrics = ['accuracy'])"
   ]
  },
  {
   "cell_type": "code",
   "execution_count": null,
   "id": "224867d8",
   "metadata": {},
   "outputs": [
    {
     "name": "stdout",
     "output_type": "stream",
     "text": [
      "Epoch 1/10\n"
     ]
    }
   ],
   "source": [
    "# Training the model\n",
    "# The training process could be computatioally intensive and time-consuming, taking hours to complete\n",
    "history = model.fit(train_images, train_labels,\n",
    "                    batch_size = 32, \n",
    "                    epochs = 10, \n",
    "                    verbose = 2, \n",
    "                    validation_data = (test_images, test_labels))"
   ]
  },
  {
   "cell_type": "markdown",
   "id": "fb5eccc0",
   "metadata": {},
   "source": [
    "## Model Evaluation"
   ]
  },
  {
   "cell_type": "code",
   "execution_count": null,
   "id": "4d319520",
   "metadata": {},
   "outputs": [],
   "source": [
    "score = model.evaluate(test_images, test_labels, verbose = 0)\n",
    "print('Test loss:', score[0])\n",
    "print('Test accuracy:', score[1])"
   ]
  }
 ],
 "metadata": {
  "kernelspec": {
   "display_name": "Python 3 (ipykernel)",
   "language": "python",
   "name": "python3"
  },
  "language_info": {
   "codemirror_mode": {
    "name": "ipython",
    "version": 3
   },
   "file_extension": ".py",
   "mimetype": "text/x-python",
   "name": "python",
   "nbconvert_exporter": "python",
   "pygments_lexer": "ipython3",
   "version": "3.10.9"
  }
 },
 "nbformat": 4,
 "nbformat_minor": 5
}
